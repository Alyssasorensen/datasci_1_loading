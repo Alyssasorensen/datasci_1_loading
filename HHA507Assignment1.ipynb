{
  "nbformat": 4,
  "nbformat_minor": 0,
  "metadata": {
    "colab": {
      "provenance": [],
      "authorship_tag": "ABX9TyNs+0kmo4Uu79urnGRxVdPr",
      "include_colab_link": true
    },
    "kernelspec": {
      "name": "python3",
      "display_name": "Python 3"
    },
    "language_info": {
      "name": "python"
    }
  },
  "cells": [
    {
      "cell_type": "markdown",
      "metadata": {
        "id": "view-in-github",
        "colab_type": "text"
      },
      "source": [
        "<a href=\"https://colab.research.google.com/github/Alyssasorensen/datasci_1_loading/blob/main/HHA507Assignment1.ipynb\" target=\"_parent\"><img src=\"https://colab.research.google.com/assets/colab-badge.svg\" alt=\"Open In Colab\"/></a>"
      ]
    },
    {
      "cell_type": "markdown",
      "source": [
        "# HHA 507 Assignment 1\n",
        "# 2. Data Acquisition"
      ],
      "metadata": {
        "id": "L2BlzirKWvgd"
      }
    },
    {
      "cell_type": "markdown",
      "source": [
        "### Pandas Data Loading"
      ],
      "metadata": {
        "id": "VQxNvuJQXkEF"
      }
    },
    {
      "cell_type": "markdown",
      "source": [
        "#### Examples with CSV files"
      ],
      "metadata": {
        "id": "TwNYlXuKX3cN"
      }
    },
    {
      "cell_type": "code",
      "execution_count": 1,
      "metadata": {
        "id": "QSC_XUdzVbka"
      },
      "outputs": [],
      "source": [
        "import pandas as pd\n",
        "import seaborn as sns\n",
        "import plotly as plt"
      ]
    },
    {
      "cell_type": "code",
      "source": [
        "!pip freeze > packages.txt"
      ],
      "metadata": {
        "id": "gik88SryXeqm"
      },
      "execution_count": 2,
      "outputs": []
    },
    {
      "cell_type": "code",
      "source": [
        "# First CSV file\n",
        "\n"
      ],
      "metadata": {
        "id": "FDRAmLYyYbNM"
      },
      "execution_count": null,
      "outputs": []
    }
  ]
}